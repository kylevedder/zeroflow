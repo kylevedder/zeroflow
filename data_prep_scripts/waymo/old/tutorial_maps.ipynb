{
  "cells": [
    {
      "cell_type": "markdown",
      "metadata": {
        "id": "zy79JF35iDaE"
      },
      "source": [
        "## Plot point clouds with maps"
      ]
    },
    {
      "cell_type": "code",
      "execution_count": 1,
      "metadata": {
        "id": "2MnJVU1jVe7a"
      },
      "outputs": [
        {
          "name": "stderr",
          "output_type": "stream",
          "text": [
            "2023-03-23 18:41:26.609244: I tensorflow/core/platform/cpu_feature_guard.cc:193] This TensorFlow binary is optimized with oneAPI Deep Neural Network Library (oneDNN) to use the following CPU instructions in performance-critical operations:  AVX2 FMA\n",
            "To enable them in other operations, rebuild TensorFlow with the appropriate compiler flags.\n",
            "2023-03-23 18:41:27.087125: W tensorflow/compiler/xla/stream_executor/platform/default/dso_loader.cc:64] Could not load dynamic library 'libnvinfer.so.7'; dlerror: libnvinfer.so.7: cannot open shared object file: No such file or directory; LD_LIBRARY_PATH: :/home/k/.mujoco/mujoco200/bin\n",
            "2023-03-23 18:41:27.087188: W tensorflow/compiler/xla/stream_executor/platform/default/dso_loader.cc:64] Could not load dynamic library 'libnvinfer_plugin.so.7'; dlerror: libnvinfer_plugin.so.7: cannot open shared object file: No such file or directory; LD_LIBRARY_PATH: :/home/k/.mujoco/mujoco200/bin\n",
            "2023-03-23 18:41:27.087194: W tensorflow/compiler/tf2tensorrt/utils/py_utils.cc:38] TF-TRT Warning: Cannot dlopen some TensorRT libraries. If you would like to use Nvidia GPU with TensorRT, please make sure the missing libraries mentioned above are installed properly.\n"
          ]
        }
      ],
      "source": [
        "from typing import List\n",
        "\n",
        "import numpy as np\n",
        "import plotly.graph_objs as go\n",
        "from waymo_open_dataset import dataset_pb2\n",
        "from waymo_open_dataset.utils import frame_utils\n",
        "from waymo_open_dataset.utils import plot_maps\n",
        "\n",
        "def plot_point_clouds_with_maps(frames: List[dataset_pb2.Frame])->None:\n",
        "  \"\"\"Plot the point clouds within the given frames with map data.\n",
        "\n",
        "  Map data must be populated in the first frame in the list.\n",
        "\n",
        "  Args:\n",
        "    frames: A list of frames to be plotted, frames[0] must contain map data.\n",
        "  \"\"\"\n",
        "\n",
        "  # Plot the map features.\n",
        "  if len(frames) == 0:\n",
        "    return\n",
        "  figure = plot_maps.plot_map_features(frames[0].map_features)\n",
        "\n",
        "  for frame in frames:\n",
        "    # Parse the frame lidar data into range images.\n",
        "    range_images, camera_projections, seg_labels, range_image_top_poses = (\n",
        "        frame_utils.parse_range_image_and_camera_projection(frame)\n",
        "    )\n",
        "\n",
        "    # Project the range images into points.\n",
        "    points, cp_points = frame_utils.convert_range_image_to_point_cloud(\n",
        "        frame,\n",
        "        range_images,\n",
        "        camera_projections,\n",
        "        range_image_top_poses,\n",
        "        keep_polar_features=True,\n",
        "    )\n",
        "    xyz = points[0][:, 3:]\n",
        "    num_points = xyz.shape[0]\n",
        "    \n",
        "    # Transform the points from the vehicle frame to the world frame.\n",
        "    xyz = np.concatenate([xyz, np.ones([num_points, 1])], axis=-1)\n",
        "    transform = np.reshape(np.array(frame.pose.transform), [4, 4])\n",
        "    xyz = np.transpose(np.matmul(transform, np.transpose(xyz)))[:, 0:3]\n",
        "\n",
        "    # Correct the pose of the points into the coordinate system of the first\n",
        "    # frame to align with the map data.\n",
        "    offset = frame.map_pose_offset\n",
        "    points_offset = np.array([offset.x, offset.y, offset.z])\n",
        "    xyz += points_offset\n",
        "\n",
        "    # Plot the point cloud for this frame aligned with the map data.\n",
        "    intensity = points[0][:, 0]\n",
        "    figure.add_trace(\n",
        "        go.Scatter3d(\n",
        "            x=xyz[:, 0],\n",
        "            y=xyz[:, 1],\n",
        "            z=xyz[:, 2],\n",
        "            mode='markers',\n",
        "            marker=dict(\n",
        "                size=1,\n",
        "                color=intensity,  # set color to an array/list of desired values\n",
        "                colorscale='Pinkyl',  # choose a colorscale\n",
        "                opacity=0.8,\n",
        "            ),\n",
        "        )\n",
        "    )\n",
        "\n",
        "  figure.show()\n"
      ]
    },
    {
      "cell_type": "markdown",
      "metadata": {
        "id": "5mhOt4geq12V"
      },
      "source": [
        "## Load frames data"
      ]
    },
    {
      "cell_type": "code",
      "execution_count": 3,
      "metadata": {
        "id": "WfRqjpyEt_Px"
      },
      "outputs": [
        {
          "name": "stderr",
          "output_type": "stream",
          "text": [
            "2023-03-23 18:41:28.778289: I tensorflow/compiler/xla/stream_executor/cuda/cuda_gpu_executor.cc:981] successful NUMA node read from SysFS had negative value (-1), but there must be at least one NUMA node, so returning NUMA node zero\n",
            "2023-03-23 18:41:28.778587: I tensorflow/compiler/xla/stream_executor/cuda/cuda_gpu_executor.cc:981] successful NUMA node read from SysFS had negative value (-1), but there must be at least one NUMA node, so returning NUMA node zero\n",
            "2023-03-23 18:41:28.778855: I tensorflow/compiler/xla/stream_executor/cuda/cuda_gpu_executor.cc:981] successful NUMA node read from SysFS had negative value (-1), but there must be at least one NUMA node, so returning NUMA node zero\n",
            "2023-03-23 18:41:28.779123: I tensorflow/compiler/xla/stream_executor/cuda/cuda_gpu_executor.cc:981] successful NUMA node read from SysFS had negative value (-1), but there must be at least one NUMA node, so returning NUMA node zero\n",
            "2023-03-23 18:41:28.784104: W tensorflow/compiler/xla/stream_executor/platform/default/dso_loader.cc:64] Could not load dynamic library 'libcudnn.so.8'; dlerror: libcudnn.so.8: cannot open shared object file: No such file or directory; LD_LIBRARY_PATH: :/home/k/.mujoco/mujoco200/bin\n",
            "2023-03-23 18:41:28.784123: W tensorflow/core/common_runtime/gpu/gpu_device.cc:1934] Cannot dlopen some GPU libraries. Please make sure the missing libraries mentioned above are installed properly if you would like to use GPU. Follow the guide at https://www.tensorflow.org/install/gpu for how to download and setup the required libraries for your platform.\n",
            "Skipping registering GPU devices...\n",
            "2023-03-23 18:41:28.784941: I tensorflow/core/platform/cpu_feature_guard.cc:193] This TensorFlow binary is optimized with oneAPI Deep Neural Network Library (oneDNN) to use the following CPU instructions in performance-critical operations:  AVX2 FMA\n",
            "To enable them in other operations, rebuild TensorFlow with the appropriate compiler flags.\n"
          ]
        },
        {
          "ename": "NotFoundError",
          "evalue": "{{function_node __wrapped__IteratorGetNext_output_types_1_device_/job:localhost/replica:0/task:0/device:CPU:0}} /content/frames_with_maps.tfrecord; No such file or directory [Op:IteratorGetNext]",
          "output_type": "error",
          "traceback": [
            "\u001b[0;31m---------------------------------------------------------------------------\u001b[0m",
            "\u001b[0;31mNotFoundError\u001b[0m                             Traceback (most recent call last)",
            "Cell \u001b[0;32mIn[3], line 10\u001b[0m\n\u001b[1;32m      8\u001b[0m frames \u001b[39m=\u001b[39m []\n\u001b[1;32m      9\u001b[0m count \u001b[39m=\u001b[39m \u001b[39m0\u001b[39m\n\u001b[0;32m---> 10\u001b[0m \u001b[39mfor\u001b[39;00m data \u001b[39min\u001b[39;00m dataset:\n\u001b[1;32m     11\u001b[0m   frame \u001b[39m=\u001b[39m dataset_pb2\u001b[39m.\u001b[39mFrame\u001b[39m.\u001b[39mFromString(\u001b[39mbytearray\u001b[39m(data\u001b[39m.\u001b[39mnumpy()))\n\u001b[1;32m     12\u001b[0m   frames\u001b[39m.\u001b[39mappend(frame)\n",
            "File \u001b[0;32m~/miniconda3/envs/waymo_open/lib/python3.9/site-packages/tensorflow/python/data/ops/iterator_ops.py:787\u001b[0m, in \u001b[0;36mOwnedIterator.__next__\u001b[0;34m(self)\u001b[0m\n\u001b[1;32m    785\u001b[0m \u001b[39mdef\u001b[39;00m \u001b[39m__next__\u001b[39m(\u001b[39mself\u001b[39m):\n\u001b[1;32m    786\u001b[0m   \u001b[39mtry\u001b[39;00m:\n\u001b[0;32m--> 787\u001b[0m     \u001b[39mreturn\u001b[39;00m \u001b[39mself\u001b[39;49m\u001b[39m.\u001b[39;49m_next_internal()\n\u001b[1;32m    788\u001b[0m   \u001b[39mexcept\u001b[39;00m errors\u001b[39m.\u001b[39mOutOfRangeError:\n\u001b[1;32m    789\u001b[0m     \u001b[39mraise\u001b[39;00m \u001b[39mStopIteration\u001b[39;00m\n",
            "File \u001b[0;32m~/miniconda3/envs/waymo_open/lib/python3.9/site-packages/tensorflow/python/data/ops/iterator_ops.py:770\u001b[0m, in \u001b[0;36mOwnedIterator._next_internal\u001b[0;34m(self)\u001b[0m\n\u001b[1;32m    767\u001b[0m \u001b[39m# TODO(b/77291417): This runs in sync mode as iterators use an error status\u001b[39;00m\n\u001b[1;32m    768\u001b[0m \u001b[39m# to communicate that there is no more data to iterate over.\u001b[39;00m\n\u001b[1;32m    769\u001b[0m \u001b[39mwith\u001b[39;00m context\u001b[39m.\u001b[39mexecution_mode(context\u001b[39m.\u001b[39mSYNC):\n\u001b[0;32m--> 770\u001b[0m   ret \u001b[39m=\u001b[39m gen_dataset_ops\u001b[39m.\u001b[39;49miterator_get_next(\n\u001b[1;32m    771\u001b[0m       \u001b[39mself\u001b[39;49m\u001b[39m.\u001b[39;49m_iterator_resource,\n\u001b[1;32m    772\u001b[0m       output_types\u001b[39m=\u001b[39;49m\u001b[39mself\u001b[39;49m\u001b[39m.\u001b[39;49m_flat_output_types,\n\u001b[1;32m    773\u001b[0m       output_shapes\u001b[39m=\u001b[39;49m\u001b[39mself\u001b[39;49m\u001b[39m.\u001b[39;49m_flat_output_shapes)\n\u001b[1;32m    775\u001b[0m   \u001b[39mtry\u001b[39;00m:\n\u001b[1;32m    776\u001b[0m     \u001b[39m# Fast path for the case `self._structure` is not a nested structure.\u001b[39;00m\n\u001b[1;32m    777\u001b[0m     \u001b[39mreturn\u001b[39;00m \u001b[39mself\u001b[39m\u001b[39m.\u001b[39m_element_spec\u001b[39m.\u001b[39m_from_compatible_tensor_list(ret)  \u001b[39m# pylint: disable=protected-access\u001b[39;00m\n",
            "File \u001b[0;32m~/miniconda3/envs/waymo_open/lib/python3.9/site-packages/tensorflow/python/ops/gen_dataset_ops.py:3017\u001b[0m, in \u001b[0;36miterator_get_next\u001b[0;34m(iterator, output_types, output_shapes, name)\u001b[0m\n\u001b[1;32m   3015\u001b[0m   \u001b[39mreturn\u001b[39;00m _result\n\u001b[1;32m   3016\u001b[0m \u001b[39mexcept\u001b[39;00m _core\u001b[39m.\u001b[39m_NotOkStatusException \u001b[39mas\u001b[39;00m e:\n\u001b[0;32m-> 3017\u001b[0m   _ops\u001b[39m.\u001b[39;49mraise_from_not_ok_status(e, name)\n\u001b[1;32m   3018\u001b[0m \u001b[39mexcept\u001b[39;00m _core\u001b[39m.\u001b[39m_FallbackException:\n\u001b[1;32m   3019\u001b[0m   \u001b[39mpass\u001b[39;00m\n",
            "File \u001b[0;32m~/miniconda3/envs/waymo_open/lib/python3.9/site-packages/tensorflow/python/framework/ops.py:7215\u001b[0m, in \u001b[0;36mraise_from_not_ok_status\u001b[0;34m(e, name)\u001b[0m\n\u001b[1;32m   7213\u001b[0m \u001b[39mdef\u001b[39;00m \u001b[39mraise_from_not_ok_status\u001b[39m(e, name):\n\u001b[1;32m   7214\u001b[0m   e\u001b[39m.\u001b[39mmessage \u001b[39m+\u001b[39m\u001b[39m=\u001b[39m (\u001b[39m\"\u001b[39m\u001b[39m name: \u001b[39m\u001b[39m\"\u001b[39m \u001b[39m+\u001b[39m name \u001b[39mif\u001b[39;00m name \u001b[39mis\u001b[39;00m \u001b[39mnot\u001b[39;00m \u001b[39mNone\u001b[39;00m \u001b[39melse\u001b[39;00m \u001b[39m\"\u001b[39m\u001b[39m\"\u001b[39m)\n\u001b[0;32m-> 7215\u001b[0m   \u001b[39mraise\u001b[39;00m core\u001b[39m.\u001b[39m_status_to_exception(e) \u001b[39mfrom\u001b[39;00m \u001b[39mNone\u001b[39m\n",
            "\u001b[0;31mNotFoundError\u001b[0m: {{function_node __wrapped__IteratorGetNext_output_types_1_device_/job:localhost/replica:0/task:0/device:CPU:0}} /content/frames_with_maps.tfrecord; No such file or directory [Op:IteratorGetNext]"
          ]
        }
      ],
      "source": [
        "import tensorflow as tf\n",
        "\n",
        "FILENAME = '/efs/waymo_open_with_maps/training/training/segment-10017090168044687777_6380_000_6400_000_with_camera_labels.tfrecord'\n",
        "\n",
        "dataset = tf.data.TFRecordDataset(FILENAME, compression_type='')\n",
        "\n",
        "# Load only 2 frames. Note that using too many frames may be slow to display.\n",
        "frames = []\n",
        "count = 0\n",
        "for data in dataset:\n",
        "  frame = dataset_pb2.Frame.FromString(bytearray(data.numpy()))\n",
        "  frames.append(frame)\n",
        "  count += 1\n",
        "  if count == 2: \n",
        "    break\n"
      ]
    },
    {
      "cell_type": "markdown",
      "metadata": {
        "id": "RzTEio68tE2B"
      },
      "source": [
        "## Plot frames data"
      ]
    },
    {
      "cell_type": "code",
      "execution_count": null,
      "metadata": {
        "id": "-Y59EuqTs8c1"
      },
      "outputs": [],
      "source": [
        "# Interactive plot of multiple point clouds aligned to the maps frame.\n",
        "\n",
        "# For most systems:\n",
        "#   left mouse button:   rotate\n",
        "#   right mouse button:  pan\n",
        "#   scroll wheel:        zoom\n",
        "\n",
        "plot_point_clouds_with_maps(frames)"
      ]
    }
  ],
  "metadata": {
    "colab": {
      "last_runtime": {
        "build_target": "",
        "kind": "local"
      },
      "private_outputs": true,
      "provenance": [
        {
          "file_id": "1ZOQUmLALJyfE-1zH4tynEQmSoYXUWSXF",
          "timestamp": 1675474768372
        },
        {
          "file_id": "1YdikcSqhy9NvprGaQzeSYfTe_UtPsMnv",
          "timestamp": 1675452906901
        },
        {
          "file_id": "1qK84E7Wug2MmhaqXTtkBzm9id9U1r1NC",
          "timestamp": 1663010675571
        },
        {
          "file_id": "13RtPddJ5Fzgi27_vv2v3Xm7-m1EV5dAL",
          "timestamp": 1661916016522
        }
      ]
    },
    "kernelspec": {
      "display_name": "Python 3",
      "name": "python3"
    },
    "language_info": {
      "codemirror_mode": {
        "name": "ipython",
        "version": 3
      },
      "file_extension": ".py",
      "mimetype": "text/x-python",
      "name": "python",
      "nbconvert_exporter": "python",
      "pygments_lexer": "ipython3",
      "version": "3.9.16"
    }
  },
  "nbformat": 4,
  "nbformat_minor": 0
}
